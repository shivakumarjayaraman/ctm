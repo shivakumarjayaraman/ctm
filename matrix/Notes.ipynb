{
 "cells": [
  {
   "cell_type": "code",
   "execution_count": 2,
   "id": "dc74aaa1",
   "metadata": {},
   "outputs": [],
   "source": [
    "import numpy as np\n",
    "import matplotlib.pyplot as plt"
   ]
  },
  {
   "cell_type": "code",
   "execution_count": 5,
   "id": "754b2c95",
   "metadata": {},
   "outputs": [
    {
     "name": "stdout",
     "output_type": "stream",
     "text": [
      "[500. 250. 100. 300.]\n"
     ]
    }
   ],
   "source": [
    "A = np.array([[.1, 0, 0, .3], [0, .2, 0, .4], [0, 0, .3, .1], [0, 0, .5, .4]])\n",
    "B = np.array([140, 170, 60, 170])\n",
    "\n",
    "sol = np.linalg.solve(A, B)\n",
    "print (sol)"
   ]
  },
  {
   "cell_type": "code",
   "execution_count": 9,
   "id": "47c1af79",
   "metadata": {},
   "outputs": [
    {
     "name": "stdout",
     "output_type": "stream",
     "text": [
      "[0 0]\n"
     ]
    }
   ],
   "source": [
    "A = np.array([[2, 0, 0], [0, 1, 1]])\n",
    "x = np.array([0, 1, -1])\n",
    "\n",
    "print (A@(x.T))"
   ]
  },
  {
   "cell_type": "code",
   "execution_count": 20,
   "id": "3838a3b0",
   "metadata": {},
   "outputs": [],
   "source": [
    "A = np.array([[1, 0, 0], [0, 0, 0], [0, 0, 1]])\n",
    "B = np.array([0, 0, 0])\n",
    "\n",
    "## Singular matrix\n",
    "##print (np.linalg.solve(A, B))"
   ]
  },
  {
   "cell_type": "code",
   "execution_count": null,
   "id": "27572405",
   "metadata": {},
   "outputs": [],
   "source": []
  }
 ],
 "metadata": {
  "kernelspec": {
   "display_name": "Python 3",
   "language": "python",
   "name": "python3"
  },
  "language_info": {
   "codemirror_mode": {
    "name": "ipython",
    "version": 3
   },
   "file_extension": ".py",
   "mimetype": "text/x-python",
   "name": "python",
   "nbconvert_exporter": "python",
   "pygments_lexer": "ipython3",
   "version": "3.8.8"
  }
 },
 "nbformat": 4,
 "nbformat_minor": 5
}
