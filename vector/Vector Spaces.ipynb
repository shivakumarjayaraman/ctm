{
 "cells": [
  {
   "cell_type": "code",
   "execution_count": 1,
   "id": "671fcd2e",
   "metadata": {},
   "outputs": [
    {
     "name": "stdout",
     "output_type": "stream",
     "text": [
      "[ 51.  312.  215.4 373.1 356. ]\n"
     ]
    }
   ],
   "source": [
    "## Linear Combinations\n",
    "import numpy as np\n",
    "import matplotlib.pyplot as plt\n",
    "\n",
    "v1 = np.array([0, 1.3, .2, .8, .4])\n",
    "v2 = np.array([0, 0, 1.5, .4, .3])\n",
    "v3 = np.array([.25, 0, 0, .2, .7])\n",
    "v4 = np.array([0, 0, .3, .7, .5])\n",
    "v5 = np.array([.15, 0, .5, .4, .8])\n",
    "\n",
    "print (240*v1 + 55*v2 + 150*v3 + 133*v4 + 90*v5)"
   ]
  },
  {
   "cell_type": "code",
   "execution_count": 2,
   "id": "f7691eca",
   "metadata": {},
   "outputs": [
    {
     "name": "stdout",
     "output_type": "stream",
     "text": [
      "[ 51.  312.  215.4 373.1 356. ]\n",
      "[ 51.  312.  215.4 373.1 356. ]\n"
     ]
    }
   ],
   "source": [
    "## forward problem\n",
    "\n",
    "m = np.array([v1, v2, v3, v4, v5])\n",
    "v = np.array([240, 55, 150, 133, 90])\n",
    "\n",
    "print (v@m)\n",
    "\n",
    "print (m.T@v.T)"
   ]
  },
  {
   "cell_type": "code",
   "execution_count": 4,
   "id": "3622cf4b",
   "metadata": {},
   "outputs": [
    {
     "data": {
      "text/plain": [
       "<matplotlib.image.AxesImage at 0x7f7d440d02b0>"
      ]
     },
     "execution_count": 4,
     "metadata": {},
     "output_type": "execute_result"
    },
    {
     "data": {
      "image/png": "[encoded data removed]",
      "text/plain": [
       "<Figure size 432x288 with 1 Axes>"
      ]
     },
     "metadata": {
      "needs_background": "light"
     },
     "output_type": "display_data"
    }
   ],
   "source": [
    "## Button vectors again\n",
    "\n",
    "def findButtonVectors(n, i, j) :\n",
    "    bv = np.zeros((n, n))\n",
    "    \n",
    "    if (i < 0 or i >= n or j < 0 or j >=n) :\n",
    "        return bv\n",
    "  \n",
    "    bv[i, j] = 1  ## index\n",
    "    \n",
    "    ##  row above\n",
    "    if (i - 1) >= 0 :\n",
    "        bv[i-1, j] = 1\n",
    "        \n",
    "    ##  col left\n",
    "    if (j - 1) >= 0 :\n",
    "        bv[i, j-1] = 1\n",
    "    \n",
    "    ## row below\n",
    "    if (i + 1 < n) :\n",
    "        bv[i+1, j] = 1\n",
    "    \n",
    "    ## col right\n",
    "    if (j + 1 < n) :\n",
    "        bv[i, j+1] = 1\n",
    "        \n",
    "    return bv\n",
    "\n",
    "v1 = findButtonVectors(2, 0, 0)\n",
    "v2 = findButtonVectors(2, 0, 1)\n",
    "v3 = findButtonVectors(2, 1, 0)\n",
    "v4 = findButtonVectors(2, 1, 1)\n",
    "\n",
    "def gfadd(*args):\n",
    "    s = args[0]\n",
    "    for i in range(1, len(args)) :\n",
    "        s = np.logical_xor(s, args[i])\n",
    "    return s\n",
    "    \n",
    "s = gfadd(v1, 0*v2, 0*v3, v4)\n",
    "plt.imshow(s)"
   ]
  },
  {
   "cell_type": "code",
   "execution_count": null,
   "id": "180383de",
   "metadata": {},
   "outputs": [],
   "source": []
  }
 ],
 "metadata": {
  "kernelspec": {
   "display_name": "Python 3",
   "language": "python",
   "name": "python3"
  },
  "language_info": {
   "codemirror_mode": {
    "name": "ipython",
    "version": 3
   },
   "file_extension": ".py",
   "mimetype": "text/x-python",
   "name": "python",
   "nbconvert_exporter": "python",
   "pygments_lexer": "ipython3",
   "version": "3.8.8"
  }
 },
 "nbformat": 4,
 "nbformat_minor": 5
}
