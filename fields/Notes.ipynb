{
 "cells": [
  {
   "cell_type": "code",
   "execution_count": 1,
   "id": "f221ebb8",
   "metadata": {},
   "outputs": [],
   "source": [
    "## A simple Caesar cipher function\n",
    "def _shift(x, c) :\n",
    "    return chr(ord('A') + (ord(x.upper()) + c - ord('A'))%26)\n",
    "\n",
    "def caesar(c, d) :\n",
    "    return \"\".join(_shift(x, d) for x in c)\n",
    "\n",
    "def uncaesar(c, d):\n",
    "    return (caesar(c, -d))\n",
    "    \n",
    "    "
   ]
  },
  {
   "cell_type": "code",
   "execution_count": 2,
   "id": "d5f37fc0",
   "metadata": {},
   "outputs": [
    {
     "name": "stdout",
     "output_type": "stream",
     "text": [
      "PDWULA MATRIX\n"
     ]
    }
   ],
   "source": [
    "enc = caesar(\"Matrix\", 3)\n",
    "dec = uncaesar(enc, 3)\n",
    "\n",
    "print (enc, dec)"
   ]
  },
  {
   "cell_type": "markdown",
   "id": "fa997fb7",
   "metadata": {},
   "source": [
    "D->F  .. No of functions ..  $|F| ^ {|D|} $\n",
    "\n",
    "Ex: Number of boolean functions of 3 inputs ..  \n",
    "|D| = $2^3$ = \n",
    "|F| = 2\n",
    "\n",
    "No of functions = $2^{2^3}$\n",
    "\n"
   ]
  },
  {
   "cell_type": "code",
   "execution_count": 4,
   "id": "cbfdd362",
   "metadata": {},
   "outputs": [
    {
     "name": "stdout",
     "output_type": "stream",
     "text": [
      "10080\n"
     ]
    }
   ],
   "source": [
    "def numbMinsInWeek(): return 7 * 24 * 60\n",
    "\n",
    "print (numbMinsInWeek())"
   ]
  },
  {
   "cell_type": "code",
   "execution_count": 10,
   "id": "49ad54e2",
   "metadata": {},
   "outputs": [
    {
     "name": "stdout",
     "output_type": "stream",
     "text": [
      "49038.53191489362\n"
     ]
    },
    {
     "data": {
      "text/plain": [
       "25"
      ]
     },
     "execution_count": 10,
     "metadata": {},
     "output_type": "execute_result"
    }
   ],
   "source": [
    "x = 2304811\n",
    "print (x/47)\n",
    "x - int(x/47)*47"
   ]
  },
  {
   "cell_type": "code",
   "execution_count": 5,
   "id": "8fa3acd4",
   "metadata": {},
   "outputs": [
    {
     "data": {
      "text/plain": [
       "array([1, 2, 3, 6, 7, 8, 6, 7, 8])"
      ]
     },
     "execution_count": 5,
     "metadata": {},
     "output_type": "execute_result"
    }
   ],
   "source": [
    "import numpy as np\n",
    "\n",
    "a = np.array([1, 2, 3])\n",
    "b = np.array([6, 7, 8])\n",
    "\n",
    "np.concatenate((a, b, b))"
   ]
  },
  {
   "cell_type": "code",
   "execution_count": 9,
   "id": "3d0f35c8",
   "metadata": {},
   "outputs": [
    {
     "data": {
      "text/plain": [
       "[6, 7, 8, 12, 14, 16, 18, 21, 24]"
      ]
     },
     "execution_count": 9,
     "metadata": {},
     "output_type": "execute_result"
    }
   ],
   "source": [
    "[x*y for x in a for y in b]"
   ]
  },
  {
   "cell_type": "code",
   "execution_count": 17,
   "id": "26431231",
   "metadata": {},
   "outputs": [
    {
     "data": {
      "text/plain": [
       "16.1"
      ]
     },
     "execution_count": 17,
     "metadata": {},
     "output_type": "execute_result"
    }
   ],
   "source": [
    "LoLf = [[.25, .75, .1], [-1, 0], [4, 4, 4, 4]]\n",
    "sum(sum(x)for x in LoLf)\n"
   ]
  },
  {
   "cell_type": "code",
   "execution_count": 20,
   "id": "1a2d49d8",
   "metadata": {},
   "outputs": [
    {
     "name": "stdout",
     "output_type": "stream",
     "text": [
      "[1 2]\n"
     ]
    }
   ],
   "source": [
    "print (a[0:2])"
   ]
  },
  {
   "cell_type": "code",
   "execution_count": 32,
   "id": "bbea36df",
   "metadata": {},
   "outputs": [
    {
     "name": "stdout",
     "output_type": "stream",
     "text": [
      "[(0, 0, 0), (0, 2, -2), (0, -2, 2), (1, 1, -2), (1, -2, 1), (2, 0, -2), (2, 2, -4), (2, -4, 2), (2, -2, 0), (-4, 2, 2), (-2, 0, 2), (-2, 1, 1), (-2, 2, 0)]\n"
     ]
    }
   ],
   "source": [
    "S = {-4, -2, 1, 2, 5, 0}\n",
    "print(list((x, y, z) for x in S for y in S for z in S if (x+y+z) == 0))"
   ]
  },
  {
   "cell_type": "code",
   "execution_count": 38,
   "id": "18b38583",
   "metadata": {},
   "outputs": [
    {
     "name": "stdout",
     "output_type": "stream",
     "text": [
      "[(0, 'a'), (1, 'b'), (2, 'c'), (3, 'd'), (4, 'e')]\n"
     ]
    }
   ],
   "source": [
    "L = ['a', 'b', 'c', 'd', 'e']\n",
    "print (list((x, y) for x, y in zip(range(len(L)), L)))"
   ]
  },
  {
   "cell_type": "code",
   "execution_count": 44,
   "id": "4fab8716",
   "metadata": {},
   "outputs": [
    {
     "data": {
      "text/plain": [
       "['Sean', 'Roger', 'Pierce']"
      ]
     },
     "execution_count": 44,
     "metadata": {},
     "output_type": "execute_result"
    }
   ],
   "source": [
    "dlist = [{'James':'Sean', 'director':'Terence'}, {'James':'Roger',\n",
    "'director':'Lewis'}, {'James':'Pierce', 'director':'Roger'}]\n",
    "k = 'James'\n",
    "[x[k] for x in dlist]"
   ]
  },
  {
   "cell_type": "code",
   "execution_count": 52,
   "id": "e1129b74",
   "metadata": {},
   "outputs": [
    {
     "data": {
      "text/plain": [
       "{0: [0, 0, 0],\n",
       " 1: [0, 0, 1],\n",
       " 2: [0, 1, 0],\n",
       " 3: [0, 1, 1],\n",
       " 4: [1, 0, 0],\n",
       " 5: [1, 0, 1],\n",
       " 6: [1, 1, 0],\n",
       " 7: [1, 1, 1]}"
      ]
     },
     "execution_count": 52,
     "metadata": {},
     "output_type": "execute_result"
    }
   ],
   "source": [
    "base = 2\n",
    "{x: [int(x/base**2)%base, int(x/base)%base, x%base] for x in range(base**3)}\n"
   ]
  },
  {
   "cell_type": "code",
   "execution_count": 55,
   "id": "8b44e1ff",
   "metadata": {},
   "outputs": [
    {
     "name": "stdout",
     "output_type": "stream",
     "text": [
      "[{'Larry': 1000.0}, {'Moe': 990}, {'Curly': 1200.5}]\n"
     ]
    }
   ],
   "source": [
    "id2salary = {0:1000.0, 3:990, 1:1200.50}\n",
    "names = ['Larry', 'Curly', '', 'Moe']\n",
    "\n",
    "print (list({names[k]: id2salary[k]} for k in id2salary.keys()))"
   ]
  },
  {
   "cell_type": "code",
   "execution_count": null,
   "id": "8978d085",
   "metadata": {},
   "outputs": [],
   "source": []
  }
 ],
 "metadata": {
  "kernelspec": {
   "display_name": "Python 3",
   "language": "python",
   "name": "python3"
  },
  "language_info": {
   "codemirror_mode": {
    "name": "ipython",
    "version": 3
   },
   "file_extension": ".py",
   "mimetype": "text/x-python",
   "name": "python",
   "nbconvert_exporter": "python",
   "pygments_lexer": "ipython3",
   "version": "3.8.8"
  }
 },
 "nbformat": 4,
 "nbformat_minor": 5
}
